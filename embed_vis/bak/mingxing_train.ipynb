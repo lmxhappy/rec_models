{
 "cells": [
  {
   "cell_type": "markdown",
   "metadata": {},
   "source": [
    "# 训练样本的embedding可视化"
   ]
  },
  {
   "cell_type": "code",
   "execution_count": 1,
   "metadata": {},
   "outputs": [
    {
     "name": "stdout",
     "output_type": "stream",
     "text": [
      "mid_list and embeddings ready.\n"
     ]
    }
   ],
   "source": [
    "embed_path = './embedding/item_embedding_mingxing'\n",
    "with open(embed_path, \"r\") as f:\n",
    "        line = f.readline()\n",
    "        embeddings = []\n",
    "        mid_list = []\n",
    "        while line:\n",
    "            line = line.strip()\n",
    "            arr = line.split(':')\n",
    "            mid = arr[0]\n",
    "\n",
    "           \n",
    "\n",
    "            mid_list.append(mid)\n",
    "\n",
    "            emb = arr[1]\n",
    "            emb_arr = emb.split(',')\n",
    "            emb_float_arr = [float(ele)for ele in emb_arr]\n",
    "            embeddings.append(emb_float_arr)\n",
    "\n",
    "            line = f.readline()\n",
    "print('mid_list and embeddings ready.')\n"
   ]
  },
  {
   "cell_type": "code",
   "execution_count": 2,
   "metadata": {},
   "outputs": [],
   "source": [
    "my_dict = dict(zip(mid_list, embeddings))"
   ]
  },
  {
   "cell_type": "code",
   "execution_count": 4,
   "metadata": {},
   "outputs": [],
   "source": [
    "with open('embedding/mingxing_train_item.out', 'r') as f:\n",
    "    line = f.readline()\n",
    "    my_mid_list = []\n",
    "    while line:\n",
    "        line = line.strip()\n",
    "        my_mid_list.append(line)\n",
    "    \n",
    "        line = f.readline()"
   ]
  },
  {
   "cell_type": "code",
   "execution_count": 5,
   "metadata": {
    "scrolled": true
   },
   "outputs": [
    {
     "data": {
      "text/plain": [
       "397595"
      ]
     },
     "execution_count": 5,
     "metadata": {},
     "output_type": "execute_result"
    }
   ],
   "source": [
    "len(my_mid_list)"
   ]
  },
  {
   "cell_type": "code",
   "execution_count": null,
   "metadata": {},
   "outputs": [],
   "source": []
  },
  {
   "cell_type": "code",
   "execution_count": 6,
   "metadata": {},
   "outputs": [],
   "source": [
    "count = 0\n",
    "my_mid_list2 = []\n",
    "embeddings2 = []\n",
    "for mid in my_mid_list:\n",
    "    if mid not in my_dict:\n",
    "        count += 1\n",
    "    else:\n",
    "        my_mid_list2.append(mid)\n",
    "        embeddings2.append(my_dict[mid])"
   ]
  },
  {
   "cell_type": "code",
   "execution_count": 7,
   "metadata": {
    "scrolled": true
   },
   "outputs": [
    {
     "data": {
      "text/plain": [
       "5317"
      ]
     },
     "execution_count": 7,
     "metadata": {},
     "output_type": "execute_result"
    }
   ],
   "source": [
    "count"
   ]
  },
  {
   "cell_type": "code",
   "execution_count": 8,
   "metadata": {},
   "outputs": [
    {
     "data": {
      "text/plain": [
       "(392278, 392278)"
      ]
     },
     "execution_count": 8,
     "metadata": {},
     "output_type": "execute_result"
    }
   ],
   "source": [
    "len(my_mid_list2), len(embeddings2)"
   ]
  },
  {
   "cell_type": "code",
   "execution_count": 11,
   "metadata": {},
   "outputs": [],
   "source": [
    "from embed_vis import embed_vis\n",
    "import numpy as np"
   ]
  },
  {
   "cell_type": "code",
   "execution_count": 12,
   "metadata": {},
   "outputs": [
    {
     "name": "stdout",
     "output_type": "stream",
     "text": [
      "WARNING:tensorflow:From /Users/conan/opt/anaconda3/envs/py36-tf1.13/lib/python3.6/site-packages/tensorflow/python/framework/op_def_library.py:263: colocate_with (from tensorflow.python.framework.ops) is deprecated and will be removed in a future version.\n",
      "Instructions for updating:\n",
      "Colocations handled automatically by placer.\n"
     ]
    }
   ],
   "source": [
    "embed_vis('./checkpoint/mingxing_train', my_mid_list2, np.array(embeddings2))"
   ]
  }
 ],
 "metadata": {
  "kernelspec": {
   "display_name": "Python 3",
   "language": "python",
   "name": "python3"
  },
  "language_info": {
   "codemirror_mode": {
    "name": "ipython",
    "version": 3
   },
   "file_extension": ".py",
   "mimetype": "text/x-python",
   "name": "python",
   "nbconvert_exporter": "python",
   "pygments_lexer": "ipython3",
   "version": "3.7.6"
  }
 },
 "nbformat": 4,
 "nbformat_minor": 4
}
