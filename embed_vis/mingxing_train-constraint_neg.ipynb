{
 "cells": [
  {
   "cell_type": "markdown",
   "metadata": {},
   "source": [
    "# 训练样本的embedding可视化"
   ]
  },
  {
   "cell_type": "markdown",
   "metadata": {},
   "source": [
    "## 从文件中获取mid_list和embeddings"
   ]
  },
  {
   "cell_type": "code",
   "execution_count": 2,
   "metadata": {},
   "outputs": [],
   "source": [
    "from embed_vis import embed_vis_from_file\n",
    "import numpy as np"
   ]
  },
  {
   "cell_type": "code",
   "execution_count": 4,
   "metadata": {},
   "outputs": [],
   "source": [
    "??embed_vis_from_file"
   ]
  },
  {
   "cell_type": "code",
   "execution_count": 5,
   "metadata": {
    "scrolled": true
   },
   "outputs": [
    {
     "name": "stdout",
     "output_type": "stream",
     "text": [
      "mid_list and embeddings ready.\n",
      "WARNING:tensorflow:From /Users/conan/opt/anaconda3/envs/py36-tf1.13/lib/python3.6/site-packages/tensorflow/python/framework/op_def_library.py:263: colocate_with (from tensorflow.python.framework.ops) is deprecated and will be removed in a future version.\n",
      "Instructions for updating:\n",
      "Colocations handled automatically by placer.\n"
     ]
    }
   ],
   "source": [
    "embed_vis_from_file(embed_path='embedding/item_embedding_constraint_neg', vis_path='./checkpoint/constraint_neg')"
   ]
  },
  {
   "cell_type": "code",
   "execution_count": null,
   "metadata": {
    "scrolled": true
   },
   "outputs": [
    {
     "name": "stdout",
     "output_type": "stream",
     "text": [
      "/Users/conan/opt/anaconda3/envs/py36-tf1.13/lib/python3.6/site-packages/tensorflow/python/framework/dtypes.py:526: FutureWarning: Passing (type, 1) or '1type' as a synonym of type is deprecated; in a future version of numpy, it will be understood as (type, (1,)) / '(1,)type'.\n",
      "  _np_qint8 = np.dtype([(\"qint8\", np.int8, 1)])\n",
      "/Users/conan/opt/anaconda3/envs/py36-tf1.13/lib/python3.6/site-packages/tensorflow/python/framework/dtypes.py:527: FutureWarning: Passing (type, 1) or '1type' as a synonym of type is deprecated; in a future version of numpy, it will be understood as (type, (1,)) / '(1,)type'.\n",
      "  _np_quint8 = np.dtype([(\"quint8\", np.uint8, 1)])\n",
      "/Users/conan/opt/anaconda3/envs/py36-tf1.13/lib/python3.6/site-packages/tensorflow/python/framework/dtypes.py:528: FutureWarning: Passing (type, 1) or '1type' as a synonym of type is deprecated; in a future version of numpy, it will be understood as (type, (1,)) / '(1,)type'.\n",
      "  _np_qint16 = np.dtype([(\"qint16\", np.int16, 1)])\n",
      "/Users/conan/opt/anaconda3/envs/py36-tf1.13/lib/python3.6/site-packages/tensorflow/python/framework/dtypes.py:529: FutureWarning: Passing (type, 1) or '1type' as a synonym of type is deprecated; in a future version of numpy, it will be understood as (type, (1,)) / '(1,)type'.\n",
      "  _np_quint16 = np.dtype([(\"quint16\", np.uint16, 1)])\n",
      "/Users/conan/opt/anaconda3/envs/py36-tf1.13/lib/python3.6/site-packages/tensorflow/python/framework/dtypes.py:530: FutureWarning: Passing (type, 1) or '1type' as a synonym of type is deprecated; in a future version of numpy, it will be understood as (type, (1,)) / '(1,)type'.\n",
      "  _np_qint32 = np.dtype([(\"qint32\", np.int32, 1)])\n",
      "/Users/conan/opt/anaconda3/envs/py36-tf1.13/lib/python3.6/site-packages/tensorflow/python/framework/dtypes.py:535: FutureWarning: Passing (type, 1) or '1type' as a synonym of type is deprecated; in a future version of numpy, it will be understood as (type, (1,)) / '(1,)type'.\n",
      "  np_resource = np.dtype([(\"resource\", np.ubyte, 1)])\n",
      "/Users/conan/opt/anaconda3/envs/py36-tf1.13/lib/python3.6/site-packages/tensorboard/compat/tensorflow_stub/dtypes.py:541: FutureWarning: Passing (type, 1) or '1type' as a synonym of type is deprecated; in a future version of numpy, it will be understood as (type, (1,)) / '(1,)type'.\n",
      "  _np_qint8 = np.dtype([(\"qint8\", np.int8, 1)])\n",
      "/Users/conan/opt/anaconda3/envs/py36-tf1.13/lib/python3.6/site-packages/tensorboard/compat/tensorflow_stub/dtypes.py:542: FutureWarning: Passing (type, 1) or '1type' as a synonym of type is deprecated; in a future version of numpy, it will be understood as (type, (1,)) / '(1,)type'.\n",
      "  _np_quint8 = np.dtype([(\"quint8\", np.uint8, 1)])\n",
      "/Users/conan/opt/anaconda3/envs/py36-tf1.13/lib/python3.6/site-packages/tensorboard/compat/tensorflow_stub/dtypes.py:543: FutureWarning: Passing (type, 1) or '1type' as a synonym of type is deprecated; in a future version of numpy, it will be understood as (type, (1,)) / '(1,)type'.\n",
      "  _np_qint16 = np.dtype([(\"qint16\", np.int16, 1)])\n",
      "/Users/conan/opt/anaconda3/envs/py36-tf1.13/lib/python3.6/site-packages/tensorboard/compat/tensorflow_stub/dtypes.py:544: FutureWarning: Passing (type, 1) or '1type' as a synonym of type is deprecated; in a future version of numpy, it will be understood as (type, (1,)) / '(1,)type'.\n",
      "  _np_quint16 = np.dtype([(\"quint16\", np.uint16, 1)])\n",
      "/Users/conan/opt/anaconda3/envs/py36-tf1.13/lib/python3.6/site-packages/tensorboard/compat/tensorflow_stub/dtypes.py:545: FutureWarning: Passing (type, 1) or '1type' as a synonym of type is deprecated; in a future version of numpy, it will be understood as (type, (1,)) / '(1,)type'.\n",
      "  _np_qint32 = np.dtype([(\"qint32\", np.int32, 1)])\n",
      "/Users/conan/opt/anaconda3/envs/py36-tf1.13/lib/python3.6/site-packages/tensorboard/compat/tensorflow_stub/dtypes.py:550: FutureWarning: Passing (type, 1) or '1type' as a synonym of type is deprecated; in a future version of numpy, it will be understood as (type, (1,)) / '(1,)type'.\n",
      "  np_resource = np.dtype([(\"resource\", np.ubyte, 1)])\n",
      "TensorBoard 1.13.1 at http://bj-m-218233a.local:6006 (Press CTRL+C to quit)\n",
      "I0613 13:52:14.899184 123145440337920 _internal.py:113] ::ffff:127.0.0.1 - - [13/Jun/2022 13:52:14] \"GET / HTTP/1.1\" 200 -\n",
      "I0613 13:52:19.241029 123145440337920 _internal.py:113] ::ffff:127.0.0.1 - - [13/Jun/2022 13:52:19] \"GET /font-roboto/oMMgfZMQthOryQo9n22dcuvvDin1pK8aKteLpeZ5c0A.woff2 HTTP/1.1\" 200 -\n",
      "I0613 13:52:19.738808 123145440337920 _internal.py:113] ::ffff:127.0.0.1 - - [13/Jun/2022 13:52:19] \"GET /tf-interactive-inference-dashboard/editedexample.png HTTP/1.1\" 200 -\n",
      "I0613 13:52:19.739791 123145445593088 _internal.py:113] ::ffff:127.0.0.1 - - [13/Jun/2022 13:52:19] \"GET /tf-interactive-inference-dashboard/distance.png HTTP/1.1\" 200 -\n",
      "I0613 13:52:19.741199 123145450848256 _internal.py:113] ::ffff:127.0.0.1 - - [13/Jun/2022 13:52:19] \"GET /tf-interactive-inference-dashboard/explorecounterfactuals.png HTTP/1.1\" 200 -\n",
      "I0613 13:52:19.742500 123145456103424 _internal.py:113] ::ffff:127.0.0.1 - - [13/Jun/2022 13:52:19] \"GET /tf-interactive-inference-dashboard/pdplots.png HTTP/1.1\" 200 -\n",
      "I0613 13:52:19.806180 123145456103424 _internal.py:113] ::ffff:127.0.0.1 - - [13/Jun/2022 13:52:19] \"GET /data/environment HTTP/1.1\" 200 -\n",
      "I0613 13:52:19.807317 123145450848256 _internal.py:113] ::ffff:127.0.0.1 - - [13/Jun/2022 13:52:19] \"GET /data/experiments HTTP/1.1\" 200 -\n",
      "I0613 13:52:19.807816 123145440337920 _internal.py:113] ::ffff:127.0.0.1 - - [13/Jun/2022 13:52:19] \"GET /data/runs HTTP/1.1\" 200 -\n",
      "I0613 13:52:19.808793 123145445593088 _internal.py:113] ::ffff:127.0.0.1 - - [13/Jun/2022 13:52:19] \"GET /data/plugins_listing HTTP/1.1\" 200 -\n",
      "WARNING:tensorflow:From /Users/conan/opt/anaconda3/envs/py36-tf1.13/lib/python3.6/site-packages/tensorboard/plugins/projector/projector_plugin.py:410: checkpoint_exists (from tensorflow.python.training.checkpoint_management) is deprecated and will be removed in a future version.\n",
      "Instructions for updating:\n",
      "Use standard file APIs to check for files with this prefix.\n",
      "W0613 13:52:19.810403 123145461358592 deprecation.py:323] From /Users/conan/opt/anaconda3/envs/py36-tf1.13/lib/python3.6/site-packages/tensorboard/plugins/projector/projector_plugin.py:410: checkpoint_exists (from tensorflow.python.training.checkpoint_management) is deprecated and will be removed in a future version.\n",
      "Instructions for updating:\n",
      "Use standard file APIs to check for files with this prefix.\n",
      "I0613 13:52:19.893557 123145445593088 _internal.py:113] ::ffff:127.0.0.1 - - [13/Jun/2022 13:52:19] \"GET /font-roboto/RxZJdnzeo3R5zSexge8UUZBw1xU1rKptJj_0jans920.woff2 HTTP/1.1\" 200 -\n",
      "I0613 13:52:19.899160 123145445593088 _internal.py:113] ::ffff:127.0.0.1 - - [13/Jun/2022 13:52:19] \"GET /data/plugins_listing HTTP/1.1\" 200 -\n",
      "I0613 13:52:19.905702 123145445593088 _internal.py:113] ::ffff:127.0.0.1 - - [13/Jun/2022 13:52:19] \"GET /font-roboto/d-6IYplOFocCacKzxwXSOJBw1xU1rKptJj_0jans920.woff2 HTTP/1.1\" 200 -\n",
      "I0613 13:52:19.906975 123145440337920 _internal.py:113] ::ffff:127.0.0.1 - - [13/Jun/2022 13:52:19] \"GET /font-roboto/vPcynSL0qHq_6dX7lKVByXYhjbSpvc47ee6xR_80Hnw.woff2 HTTP/1.1\" 200 -\n",
      "I0613 13:52:19.917667 123145440337920 _internal.py:113] ::ffff:127.0.0.1 - - [13/Jun/2022 13:52:19] \"GET /data/environment HTTP/1.1\" 200 -\n",
      "I0613 13:52:19.919939 123145440337920 _internal.py:113] ::ffff:127.0.0.1 - - [13/Jun/2022 13:52:19] \"GET /data/runs HTTP/1.1\" 200 -\n",
      "I0613 13:52:19.922947 123145440337920 _internal.py:113] ::ffff:127.0.0.1 - - [13/Jun/2022 13:52:19] \"GET /data/experiments HTTP/1.1\" 200 -\n",
      "I0613 13:52:19.950350 123145440337920 _internal.py:113] ::ffff:127.0.0.1 - - [13/Jun/2022 13:52:19] \"GET /data/plugin/projector/runs HTTP/1.1\" 200 -\n",
      "I0613 13:52:20.298405 123145440337920 _internal.py:113] ::ffff:127.0.0.1 - - [13/Jun/2022 13:52:20] \"GET /data/plugin/projector/runs HTTP/1.1\" 200 -\n",
      "I0613 13:52:20.400493 123145440337920 _internal.py:113] ::ffff:127.0.0.1 - - [13/Jun/2022 13:52:20] \"GET /font-roboto/Hgo13k-tfSpn0qi1SFdUfZBw1xU1rKptJj_0jans920.woff2 HTTP/1.1\" 200 -\n",
      "I0613 13:52:20.412794 123145440337920 _internal.py:113] ::ffff:127.0.0.1 - - [13/Jun/2022 13:52:20] \"GET /data/plugin/projector/info?run=. HTTP/1.1\" 200 -\n",
      "I0613 13:52:20.655702 123145440337920 _internal.py:113] ::ffff:127.0.0.1 - - [13/Jun/2022 13:52:20] \"GET /data/plugin/projector/tensor?run=.&name=embedding/.ATTRIBUTES/VARIABLE_VALUE&num_rows=100000 HTTP/1.1\" 200 -\n"
     ]
    },
    {
     "name": "stdout",
     "output_type": "stream",
     "text": [
      "I0613 13:52:21.365489 123145440337920 _internal.py:113] ::ffff:127.0.0.1 - - [13/Jun/2022 13:52:21] \"GET /data/plugin/projector/metadata?run=.&name=embedding/.ATTRIBUTES/VARIABLE_VALUE&num_rows=100000 HTTP/1.1\" 200 -\r\n"
     ]
    }
   ],
   "source": [
    "!tensorboard --logdir=./checkpoint/constraint_neg"
   ]
  },
  {
   "cell_type": "code",
   "execution_count": null,
   "metadata": {},
   "outputs": [],
   "source": []
  }
 ],
 "metadata": {
  "kernelspec": {
   "display_name": "Python 3",
   "language": "python",
   "name": "python3"
  },
  "language_info": {
   "codemirror_mode": {
    "name": "ipython",
    "version": 3
   },
   "file_extension": ".py",
   "mimetype": "text/x-python",
   "name": "python",
   "nbconvert_exporter": "python",
   "pygments_lexer": "ipython3",
   "version": "3.6.13"
  }
 },
 "nbformat": 4,
 "nbformat_minor": 4
}
