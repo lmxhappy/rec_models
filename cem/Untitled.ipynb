{
 "cells": [
  {
   "cell_type": "code",
   "execution_count": 3,
   "id": "c5550471",
   "metadata": {},
   "outputs": [],
   "source": [
    "import torch"
   ]
  },
  {
   "cell_type": "code",
   "execution_count": 9,
   "id": "88010927",
   "metadata": {},
   "outputs": [
    {
     "name": "stdout",
     "output_type": "stream",
     "text": [
      "tensor([[-10],\n",
      "        [ -1],\n",
      "        [ -3],\n",
      "        [  2],\n",
      "        [  9],\n",
      "        [ -9],\n",
      "        [  7],\n",
      "        [ -3],\n",
      "        [ -3],\n",
      "        [  2]])\n"
     ]
    }
   ],
   "source": [
    "a=torch.randint(low=-10,high=10,size=(10,1))\n",
    "print(a)\n"
   ]
  },
  {
   "cell_type": "code",
   "execution_count": 10,
   "id": "04c42781",
   "metadata": {},
   "outputs": [
    {
     "name": "stdout",
     "output_type": "stream",
     "text": [
      "tensor([[0],\n",
      "        [0],\n",
      "        [0],\n",
      "        [2],\n",
      "        [9],\n",
      "        [0],\n",
      "        [7],\n",
      "        [0],\n",
      "        [0],\n",
      "        [2]])\n"
     ]
    }
   ],
   "source": [
    "b=a.clamp(min=0)\n",
    "print(b)"
   ]
  },
  {
   "cell_type": "code",
   "execution_count": 11,
   "id": "7f641b26",
   "metadata": {},
   "outputs": [
    {
     "data": {
      "text/plain": [
       "tensor([[-10],\n",
       "        [ -1],\n",
       "        [ -3],\n",
       "        [  2],\n",
       "        [  9],\n",
       "        [ -9],\n",
       "        [  7],\n",
       "        [ -3],\n",
       "        [ -3],\n",
       "        [  2]])"
      ]
     },
     "execution_count": 11,
     "metadata": {},
     "output_type": "execute_result"
    }
   ],
   "source": [
    "a.to(b)"
   ]
  },
  {
   "cell_type": "code",
   "execution_count": 12,
   "id": "556357f2",
   "metadata": {},
   "outputs": [
    {
     "data": {
      "text/plain": [
       "tensor([[0],\n",
       "        [0],\n",
       "        [0],\n",
       "        [2],\n",
       "        [9],\n",
       "        [0],\n",
       "        [7],\n",
       "        [0],\n",
       "        [0],\n",
       "        [2]])"
      ]
     },
     "execution_count": 12,
     "metadata": {},
     "output_type": "execute_result"
    }
   ],
   "source": [
    "b.to(a)"
   ]
  }
 ],
 "metadata": {
  "kernelspec": {
   "display_name": "Python 3 (ipykernel)",
   "language": "python",
   "name": "python3"
  },
  "language_info": {
   "codemirror_mode": {
    "name": "ipython",
    "version": 3
   },
   "file_extension": ".py",
   "mimetype": "text/x-python",
   "name": "python",
   "nbconvert_exporter": "python",
   "pygments_lexer": "ipython3",
   "version": "3.8.15"
  }
 },
 "nbformat": 4,
 "nbformat_minor": 5
}
